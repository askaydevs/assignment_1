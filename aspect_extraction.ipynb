{
 "cells": [
  {
   "cell_type": "markdown",
   "id": "6a95c943",
   "metadata": {},
   "source": [
    "# Problem Definition"
   ]
  },
  {
   "cell_type": "markdown",
   "id": "59cc6891",
   "metadata": {},
   "source": [
    "*The problem* with Amazon’s Reviews is that it misses the context. Say for Example,\n",
    "1. It doesn’t say whether the **battery life is good or bad**.\n",
    "2. Memory card is **good/bad, available/not available**.\n",
    "3. Camera Quality is **good or bad**.\n",
    "\n",
    "To that end I formulate the problem as following:"
   ]
  },
  {
   "cell_type": "markdown",
   "id": "35c5d50a",
   "metadata": {},
   "source": [
    "**Problem Statement**  \n",
    "The goal is to identify the *polarity / opinion* of the most prevalent *characteristics / aspects* of a product that have been reviewed. For this purpose the designed method extracts adjective-noun pairs from the review text in the dataset to determine which elements to evaluate. The adjectives in these pairs are used to determine *polarity*, whereas the nouns in these pairs are used to choose *aspects*."
   ]
  },
  {
   "cell_type": "markdown",
   "id": "1d6a1c67",
   "metadata": {},
   "source": [
    "# Proposed Method"
   ]
  },
  {
   "cell_type": "markdown",
   "id": "821e20e3",
   "metadata": {},
   "source": [
    "The intiution behind this method relies on the connection from modifiers to nouns, pronouns, and verbs. Nouns and verbs make straightforward statements about what things are and what they do. However, the world is not black and white – there are infinite details that need to be expressed. Modifiers give additional information about nouns, pronouns, verbs, and themselves to make those things more definite. There are two types of *modifiers*: **adjectives** and **adverbs**."
   ]
  },
  {
   "cell_type": "markdown",
   "id": "8f19fbc9",
   "metadata": {},
   "source": [
    "*Adjectives*\n",
    "1. Adjectives are words that modify nouns and pronouns. Adjectives answer the questions: What kind? Which one? And how many?\n",
    "        a. What kind? Yellow balls, endangered species, gigantic tower\n",
    "        b. Which one? His girlfriend, that sofa, whose music\n",
    "        c. How many/much? Both books, several hours, more time\n",
    "2. Adjectives may come before or after a noun. They may also come at the end of a sentence with a “to be” verb\n",
    "        a. Blue dolphins play in the Pacific.\n",
    "        b. The portrait, priceless to collectors, was stolen out of the museum last night.\n",
    "        c. Lipstick is expensive."
   ]
  },
  {
   "cell_type": "markdown",
   "id": "eff2bfb9",
   "metadata": {},
   "source": [
    "As an example, a word with $nsubj$ dependency relationship with a verb token would be the $noun$ of the phrase, and a word with $acomp$ dependency relationship would be the $adjective$ of this $noun$. Thus, we would extract this pair as a relevat aspect-modifier pair."
   ]
  },
  {
   "cell_type": "markdown",
   "id": "53a7ac08",
   "metadata": {},
   "source": [
    "#### Rules for dependency parse\n",
    "\n",
    "$M$ - Sentiment modifier | $A$ - Aspect  \n",
    "1. $M$ is child of A with a relationship of $\\verb |amod|$.\n",
    "2. Adjectival Complement - $A$ is a child of something with relationship of $\\verb |nsubj|$, while $M$ is a child of the same something with relationship of $\\verb|acomp|$.\n",
    "    (Assumption - A verb will have only one $\\verb |nsubj|$ and $\\verb |dobj|$)\n",
    "3. Adverbial modifier to a passive verb - $A$ is a child of something with relationship of $\\verb |nsubjpass|$, while $M$ is a child of the same something with relationship of $\\verb |advmod|$.  \n",
    "    (Assumption - A verb will have only one $\\verb |nsubj|$ and $\\verb |dobj|$)\n",
    "4. Complement of a copular verb - $A$ is a child of $M$ with relationship of $\\verb |nsubj|$, while $M$ has a child with relationship of $\\verb |cop|$.  \n",
    "    (Assumption - A verb will have only one $\\verb |nsubj|$ and $\\verb |dobj|$)"
   ]
  },
  {
   "cell_type": "markdown",
   "id": "d0560d31",
   "metadata": {},
   "source": [
    "# Implementation\n",
    "*For the implemetation of above rules I used Spacy for linguistic processing, pandas to read and manage data*."
   ]
  },
  {
   "cell_type": "markdown",
   "id": "8c13a615",
   "metadata": {},
   "source": [
    "### Import required libraries"
   ]
  },
  {
   "cell_type": "code",
   "execution_count": 1,
   "id": "7ff1fc59",
   "metadata": {},
   "outputs": [
    {
     "name": "stdout",
     "output_type": "stream",
     "text": [
      "Pretty printing has been turned OFF\n"
     ]
    }
   ],
   "source": [
    "import spacy\n",
    "import pandas as pd\n",
    "from spacy import displacy\n",
    "import warnings\n",
    "from IPython.display import Image\n",
    "warnings.filterwarnings('ignore')\n",
    "\n",
    "%pprint"
   ]
  },
  {
   "cell_type": "markdown",
   "id": "f17e934d",
   "metadata": {},
   "source": [
    "### Read the data"
   ]
  },
  {
   "cell_type": "code",
   "execution_count": 2,
   "id": "238936f4",
   "metadata": {},
   "outputs": [],
   "source": [
    "raw_data = pd.read_csv('data/raw/Womens_Clothing_E-Commerce_Reviews.csv')\n",
    "raw_data.drop('Unnamed: 0', axis=1, inplace=True)\n",
    "df = pd.DataFrame(raw_data[['Clothing ID','Title', 'Review Text']])\n",
    "df.dropna(inplace=True)\n",
    "df = df[df['Clothing ID'] == 1078]\n",
    "len(df) # 871\n",
    "nlp=spacy.load(\"en_core_web_lg\")"
   ]
  },
  {
   "cell_type": "markdown",
   "id": "976c61f9",
   "metadata": {},
   "source": [
    "### Aspect - Modifier extraction"
   ]
  },
  {
   "cell_type": "markdown",
   "id": "f6af1722",
   "metadata": {},
   "source": [
    "The objective of this step is to extract instances of product aspects and modifiers that express the opinion about a particular aspect. The dependency parser tree in Python's $\\verb |spaCy|$ package is utilized to extract pairs of words based on specific syntactic dependency paths. The output of this step is a dictionary of such noun-adjective which serve as the input to the next step of grouping aspects."
   ]
  },
  {
   "cell_type": "markdown",
   "id": "dde89cf2",
   "metadata": {},
   "source": [
    "Since the dependency grammar assumes a very intricate logic behind any language.\n",
    "\n",
    "Look at the sentence below -\n",
    "\n",
    "    The delivery was very late!  \n",
    "\n",
    "In layman's term, we want the model to extract $\\verb |(delivery,late)|$ as the aspect-modifier pair. Looking at it closely, these words are basically noun & adjective pairs. And hence, there exists an underlying relationship and meaning behind these words that we can exploit using the dependency parsing tree by curating custom rules."
   ]
  },
  {
   "cell_type": "markdown",
   "id": "be3481fd",
   "metadata": {},
   "source": [
    "### Dependency parsing example"
   ]
  },
  {
   "cell_type": "code",
   "execution_count": 3,
   "id": "5886e3c9",
   "metadata": {
    "scrolled": false
   },
   "outputs": [
    {
     "data": {
      "image/png": "[encoded data removed]",
      "text/plain": [
       "<IPython.core.display.Image object>"
      ]
     },
     "execution_count": 3,
     "metadata": {},
     "output_type": "execute_result"
    }
   ],
   "source": [
    "doc = nlp(\"The delivery was very late\")\n",
    "# displacy.serve(doc, style=\"dep\")\n",
    "Image(filename='dep_ex.png')"
   ]
  },
  {
   "cell_type": "markdown",
   "id": "541c8f09",
   "metadata": {},
   "source": [
    "### Rules for aspect extraction"
   ]
  },
  {
   "cell_type": "code",
   "execution_count": 4,
   "id": "7f67bcdd",
   "metadata": {},
   "outputs": [],
   "source": [
    "def apply_extraction(row,nlp):\n",
    "    review_body = row['Review Text']\n",
    "    Title = row['Title']\n",
    "\n",
    "    doc=nlp(review_body)\n",
    "\n",
    "    '''\n",
    "    FIRST RULE OF DEPENDANCY PARSE -\n",
    "    M - Sentiment modifier || A - Aspect\n",
    "    RULE = M is child of A with a relationship of amod\n",
    "    '''\n",
    "    rule1_pairs = []\n",
    "    for token in doc:\n",
    "        if token.dep_ == \"amod\":\n",
    "            rule1_pairs.append((token.head.lemma_, token.text))\n",
    "\n",
    "    '''\n",
    "    SECOND RULE OF DEPENDANCY PARSE -\n",
    "    M - Sentiment modifier || A - Aspect\n",
    "    Adjectival Complement - A is a child of something with relationship ofnsubj,\n",
    "    while M is a child of the same something with relationship of acomp\n",
    "    Assumption - A verb will have only one NSUBJ and DOBJ\n",
    "    '''\n",
    "    rule2_pairs = []\n",
    "    for token in doc:\n",
    "\n",
    "        children = token.children\n",
    "        A = \"999999\"\n",
    "        M = \"999999\"\n",
    "        for child in children :\n",
    "            if(child.dep_ == \"nsubj\"):\n",
    "                A = child.lemma_\n",
    "\n",
    "            if(child.dep_ == \"acomp\"):\n",
    "                M = child.text\n",
    "\n",
    "        if(A != \"999999\" and M != \"999999\"):\n",
    "            rule2_pairs.append((A, M))\n",
    "    \n",
    "    '''\n",
    "    THIRD RULE OF DEPENDANCY PARSE -\n",
    "    M - Sentiment modifier || A - Aspect\n",
    "    Adverbial modifier to a passive verb - A is a child of something with\n",
    "    relationship of nsubjpass, while M is a child of the same something with\n",
    "    relationship of advmod.\n",
    "    Assumption - A verb will have only one NSUBJ and DOBJ\n",
    "    '''\n",
    "    rule3_pairs = []\n",
    "    for token in doc:\n",
    "\n",
    "\n",
    "        children = token.children\n",
    "        A = \"999999\"\n",
    "        M = \"999999\"\n",
    "        for child in children :\n",
    "            if(child.dep_ == \"nsubjpass\"):\n",
    "                A = child.lemma_\n",
    "\n",
    "            if(child.dep_ == \"advmod\"):\n",
    "                M = child.text\n",
    "\n",
    "        if(A != \"999999\" and M != \"999999\"):\n",
    "            rule3_pairs.append((A, M))\n",
    "\n",
    "    '''\n",
    "    FOURTH RULE OF DEPENDANCY PARSE -\n",
    "    M - Sentiment modifier || A - Aspect\n",
    "    Complement of a copular verb - A is a child of M with relationship of nsubj,\n",
    "    while M has a child with relationship of cop.\n",
    "    Assumption - A verb will have only one NSUBJ and DOBJ\n",
    "    '''\n",
    "    rule4_pairs = []\n",
    "    for token in doc:\n",
    "        children = token.children\n",
    "        A = \"999999\"\n",
    "        buf_var = \"999999\"\n",
    "        for child in children :\n",
    "            if(child.dep_ == \"nsubj\"):\n",
    "                A = child.lemma_\n",
    "\n",
    "            if(child.dep_ == \"cop\"):\n",
    "                buf_var = child.text\n",
    "\n",
    "        if(A != \"999999\" and buf_var != \"999999\"):\n",
    "            rule4_pairs.append((A, token.text))\n",
    "\n",
    "    aspects = []\n",
    "    aspects = rule1_pairs + rule2_pairs + rule3_pairs +rule4_pairs\n",
    "    dikt = {}\n",
    "    for tupl in aspects:\n",
    "        if tupl[0] in dikt.keys():\n",
    "            dikt[tupl[0]].append(tupl[1])\n",
    "        else:\n",
    "            dikt[tupl[0]] = [tupl[1]]\n",
    "    return dikt"
   ]
  },
  {
   "cell_type": "markdown",
   "id": "df692496",
   "metadata": {},
   "source": [
    "### Applied to all the reviews with $Clothing ID$ 1087"
   ]
  },
  {
   "cell_type": "code",
   "execution_count": 5,
   "id": "deedff7a",
   "metadata": {},
   "outputs": [],
   "source": [
    "df['Review Aspects'] = df.apply(lambda row: apply_extraction(row, nlp), axis=1)    "
   ]
  },
  {
   "cell_type": "markdown",
   "id": "59003bbe",
   "metadata": {},
   "source": [
    "### Modified dataframe schema"
   ]
  },
  {
   "cell_type": "code",
   "execution_count": 6,
   "id": "7c515f78",
   "metadata": {},
   "outputs": [
    {
     "data": {
      "text/html": [
       "<div>\n",
       "<style scoped>\n",
       "    .dataframe tbody tr th:only-of-type {\n",
       "        vertical-align: middle;\n",
       "    }\n",
       "\n",
       "    .dataframe tbody tr th {\n",
       "        vertical-align: top;\n",
       "    }\n",
       "\n",
       "    .dataframe thead th {\n",
       "        text-align: right;\n",
       "    }\n",
       "</style>\n",
       "<table border=\"1\" class=\"dataframe\">\n",
       "  <thead>\n",
       "    <tr style=\"text-align: right;\">\n",
       "      <th></th>\n",
       "      <th>Clothing ID</th>\n",
       "      <th>Title</th>\n",
       "      <th>Review Text</th>\n",
       "      <th>Review Aspects</th>\n",
       "    </tr>\n",
       "  </thead>\n",
       "  <tbody>\n",
       "    <tr>\n",
       "      <th>69</th>\n",
       "      <td>1078</td>\n",
       "      <td>Great summer fabric!</td>\n",
       "      <td>I really wanted this to work. alas, it had a s...</td>\n",
       "      <td>{'fit': ['strange', 'weird'], 'fabric': ['beau...</td>\n",
       "    </tr>\n",
       "    <tr>\n",
       "      <th>90</th>\n",
       "      <td>1078</td>\n",
       "      <td>Sweet flattering dress</td>\n",
       "      <td>I love cute summer dresses and this one, espec...</td>\n",
       "      <td>{'dress': ['cute', 'perfect'], 'foot': ['curvy...</td>\n",
       "    </tr>\n",
       "    <tr>\n",
       "      <th>467</th>\n",
       "      <td>1078</td>\n",
       "      <td>Great sweater dress!</td>\n",
       "      <td>Nice fit and flare style, not clingy at all. i...</td>\n",
       "      <td>{'style': ['Nice', 'fit', 'clingy'], 'large': ...</td>\n",
       "    </tr>\n",
       "    <tr>\n",
       "      <th>470</th>\n",
       "      <td>1078</td>\n",
       "      <td>Cute, but cheap</td>\n",
       "      <td>When i first opened this dress and tried it on...</td>\n",
       "      <td>{'weight': ['recent'], 'ironing': ['good'], 'i...</td>\n",
       "    </tr>\n",
       "    <tr>\n",
       "      <th>474</th>\n",
       "      <td>1078</td>\n",
       "      <td>Super cute and flattering too</td>\n",
       "      <td>I love this sweater dress and get compliments ...</td>\n",
       "      <td>{'review': ['other'], 'pattern': ['fun'], 'mat...</td>\n",
       "    </tr>\n",
       "  </tbody>\n",
       "</table>\n",
       "</div>"
      ],
      "text/plain": [
       "     Clothing ID                          Title  \\\n",
       "69          1078           Great summer fabric!   \n",
       "90          1078         Sweet flattering dress   \n",
       "467         1078           Great sweater dress!   \n",
       "470         1078                Cute, but cheap   \n",
       "474         1078  Super cute and flattering too   \n",
       "\n",
       "                                           Review Text  \\\n",
       "69   I really wanted this to work. alas, it had a s...   \n",
       "90   I love cute summer dresses and this one, espec...   \n",
       "467  Nice fit and flare style, not clingy at all. i...   \n",
       "470  When i first opened this dress and tried it on...   \n",
       "474  I love this sweater dress and get compliments ...   \n",
       "\n",
       "                                        Review Aspects  \n",
       "69   {'fit': ['strange', 'weird'], 'fabric': ['beau...  \n",
       "90   {'dress': ['cute', 'perfect'], 'foot': ['curvy...  \n",
       "467  {'style': ['Nice', 'fit', 'clingy'], 'large': ...  \n",
       "470  {'weight': ['recent'], 'ironing': ['good'], 'i...  \n",
       "474  {'review': ['other'], 'pattern': ['fun'], 'mat...  "
      ]
     },
     "execution_count": 6,
     "metadata": {},
     "output_type": "execute_result"
    }
   ],
   "source": [
    "df.head()"
   ]
  },
  {
   "cell_type": "markdown",
   "id": "5c485329",
   "metadata": {},
   "source": [
    "### Example results from the method"
   ]
  },
  {
   "cell_type": "code",
   "execution_count": 7,
   "id": "7f9adee3",
   "metadata": {},
   "outputs": [
    {
     "name": "stdout",
     "output_type": "stream",
     "text": [
      "Title:  Great summer fabric!\n",
      "Review Text:  I really wanted this to work. alas, it had a strange fit for me. the straps would not stay up, and it had a weird fit under the breast. it worked standing up, but the minute i sat down it fell off my shoulders. the fabric was beautiful! and i loved that it had pockets.\n",
      "Review Aspect:  {'fit': ['strange', 'weird'], 'fabric': ['beautiful']}\n",
      "\n",
      "\n",
      "Title:  Sweet flattering dress\n",
      "Review Text:  I love cute summer dresses and this one, especially because it is made out of linen, is unique. it is very well-made with a design that is quite flattering. i am 5 foot 6 and a little curvy with a 38 c bust and i got a size 10. it fits well although it is difficult to zip up because the material has no give. the perfect dress to wear to italy or france! now i just have to book my tickets!\n",
      "Review Aspect:  {'dress': ['cute', 'perfect'], 'foot': ['curvy'], 'it': ['made', 'difficult', 'especially'], 'that': ['flattering']}\n",
      "\n",
      "\n",
      "Title:  Cute, but cheap\n",
      "Review Text:  When i first opened this dress and tried it on i thought it was adorable. it is very flattering on my hourglass figure and hides my recent baby weight. the problem is the hem. it was already rolling up when i took it out of the package, and i should have noticed and returned it, but i figured the problem would be easily solved by a good ironing. well, it wasn't, and it gets worse every time i wash the dress. it's like the hem isn't constructed properly.\n",
      "Review Aspect:  {'weight': ['recent'], 'ironing': ['good'], 'it': ['adorable', 'flattering', 'worse'], 'problem': ['easily'], 'hem': ['properly']}\n",
      "\n",
      "\n",
      "Title:  Super cute and flattering too\n",
      "Review Text:  I love this sweater dress and get compliments every time i wear it.. i bought the navy in size xs. the pattern and colors are just fun and youthful, although you don't have to be young to look good in this dress. the dress is fitted, but the skirt flares, making it flattering if you have hips like me. the material is not too heavy so you can wear this 3 seasons fall, winter, spring. as other reviews have mentioned the dress is short. i am 5'9\" so it does hit well above my knees. this isn't an is\n",
      "Review Aspect:  {'review': ['other'], 'pattern': ['fun'], 'material': ['heavy'], 'dress': ['short']}\n"
     ]
    }
   ],
   "source": [
    "print('Title: ', df.loc[69]['Title'])\n",
    "print('Review Text: ', df.loc[69]['Review Text'])\n",
    "print('Review Aspect: ', df.loc[69]['Review Aspects'])\n",
    "print('\\n')\n",
    "print('Title: ', df.loc[90]['Title'])\n",
    "print('Review Text: ', df.loc[90]['Review Text'])\n",
    "print('Review Aspect: ', df.loc[90]['Review Aspects'])\n",
    "print('\\n')\n",
    "print('Title: ', df.loc[470]['Title'])\n",
    "print('Review Text: ', df.loc[470]['Review Text'])\n",
    "print('Review Aspect: ', df.loc[470]['Review Aspects'])\n",
    "print('\\n')\n",
    "print('Title: ', df.loc[474]['Title'])\n",
    "print('Review Text: ', df.loc[474]['Review Text'])\n",
    "print('Review Aspect: ', df.loc[474]['Review Aspects'])"
   ]
  },
  {
   "cell_type": "markdown",
   "id": "1acb83f9",
   "metadata": {},
   "source": [
    "The output dataframe has one additional column for the predictions. It is a dictionary where the keys of the dictionary are the characterstics / aspects of the product and the values of the dictionary is a list containing opinions about the characterstics / aspects.\n",
    "\n",
    "**<p style=\"text-align: center;\"> $\\verb |{aspects : [opinion_1, opinion_2 . . . ]}|$ </p>**"
   ]
  },
  {
   "cell_type": "markdown",
   "id": "aecf9aca",
   "metadata": {},
   "source": [
    "For example consider:\n",
    "\n",
    "    Title:  Great summer fabric!  \n",
    "    \n",
    "    Review Text:  I really wanted this to work. alas, it had a strange fit for me. the straps would not stayup, and it had a weird fit under the breast. it worked standing up, but the minute i sat down it fell off my shoulders. the fabric was beautiful! and i loved that it had pockets.  \n",
    "    \n",
    "    Review Aspect:  {'fit': ['strange', 'weird'], 'fabric': ['beautiful']}  \n",
    "      \n",
    "The tags can be interpreted as:  \n",
    "\n",
    "    strange fit, weied fit, beautiful fabric"
   ]
  }
 ],
 "metadata": {
  "kernelspec": {
   "display_name": "Python 3 (ipykernel)",
   "language": "python",
   "name": "python3"
  },
  "language_info": {
   "codemirror_mode": {
    "name": "ipython",
    "version": 3
   },
   "file_extension": ".py",
   "mimetype": "text/x-python",
   "name": "python",
   "nbconvert_exporter": "python",
   "pygments_lexer": "ipython3",
   "version": "3.9.7"
  }
 },
 "nbformat": 4,
 "nbformat_minor": 5
}
